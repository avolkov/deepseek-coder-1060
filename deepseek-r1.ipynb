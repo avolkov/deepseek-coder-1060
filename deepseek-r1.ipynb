{
 "cells": [
  {
   "cell_type": "code",
   "execution_count": 4,
   "id": "1304d2d4-d319-4bc3-bd81-d88c39972a93",
   "metadata": {},
   "outputs": [
    {
     "data": {
      "application/vnd.jupyter.widget-view+json": {
       "model_id": "6087aaf3776a47cbb0d7bfd8616d7c76",
       "version_major": 2,
       "version_minor": 0
      },
      "text/plain": [
       "generation_config.json:   0%|          | 0.00/181 [00:00<?, ?B/s]"
      ]
     },
     "metadata": {},
     "output_type": "display_data"
    },
    {
     "name": "stderr",
     "output_type": "stream",
     "text": [
      "Some parameters are on the meta device because they were offloaded to the cpu.\n"
     ]
    }
   ],
   "source": [
    "from transformers import AutoModelForCausalLM, AutoTokenizer\n",
    "\n",
    "model_name = 'deepseek-ai/DeepSeek-R1-Distill-Qwen-1.5B'\n",
    "\n",
    "model = AutoModelForCausalLM.from_pretrained(model_name, torch_dtype=\"auto\", device_map=\"auto\")\n",
    "tokenizer = AutoTokenizer.from_pretrained(model_name)\n"
   ]
  },
  {
   "cell_type": "code",
   "execution_count": 17,
   "id": "b29c77ce-6c6d-43a3-8cc7-00f6779dd081",
   "metadata": {},
   "outputs": [],
   "source": [
    "prompt = \"\"\"\n",
    "Bill, Ted and Mike are haning out on a patio drinking beer,\n",
    "Mike goes to get another one,\n",
    "Bill notices Mikes tamagochi on the table and  hides in Ted's backpack\n",
    "\n",
    "When mike comes back, he remembers that he need to feed the tamagochi, where does he look for his tamagochi?\n",
    "\"\"\""
   ]
  },
  {
   "cell_type": "code",
   "execution_count": 18,
   "id": "e40c9779-70a6-4893-9d26-3e03421dd39a",
   "metadata": {},
   "outputs": [],
   "source": [
    "\n",
    "messages = [{'role': 'system', 'content': ''}, {'role':'user', 'content':prompt}]\n",
    "\n",
    "\n",
    "text = tokenizer.apply_chat_template(messages, tokenize=False, add_generation_prompt=True)\n",
    "model_inputs = tokenizer([text], return_tensors=\"pt\").to(model.device)\n"
   ]
  },
  {
   "cell_type": "code",
   "execution_count": null,
   "id": "5b3ef506-5212-4d8c-ba92-5b4df04abfb2",
   "metadata": {},
   "outputs": [],
   "source": [
    "generated_ids = model.generate(**model_inputs, temperature=0.6, max_new_tokens=5000)"
   ]
  },
  {
   "cell_type": "code",
   "execution_count": 19,
   "id": "8beb546b-2ec0-4828-bfe1-575912727a59",
   "metadata": {},
   "outputs": [
    {
     "name": "stderr",
     "output_type": "stream",
     "text": [
      "Setting `pad_token_id` to `eos_token_id`:151643 for open-end generation.\n"
     ]
    },
    {
     "name": "stdout",
     "output_type": "stream",
     "text": [
      "<think>\n",
      "Okay, so I'm trying to figure out where Mike's tamagochi are when Mike comes back. Let me start by breaking down the information given.\n",
      "\n",
      "First, there are three people: Bill, Ted, and Mike. They're\n"
     ]
    }
   ],
   "source": [
    "\n",
    "\n",
    "\n",
    "generated_ids = [\n",
    "    output_ids[len(input_ids): ] for input_ids, output_ids in zip(model_inputs.input_ids, generated_ids)\n",
    "]\n",
    "\n",
    "response = tokenizer.batch_decode(generated_ids, skip_special_tokens=True)[0]\n",
    "print(response)\n",
    "                     "
   ]
  },
  {
   "cell_type": "code",
   "execution_count": null,
   "id": "e83c438f-03cb-4804-8dcd-2167b4b41bfd",
   "metadata": {},
   "outputs": [],
   "source": []
  }
 ],
 "metadata": {
  "kernelspec": {
   "display_name": "Python 3 (ipykernel)",
   "language": "python",
   "name": "python3"
  },
  "language_info": {
   "codemirror_mode": {
    "name": "ipython",
    "version": 3
   },
   "file_extension": ".py",
   "mimetype": "text/x-python",
   "name": "python",
   "nbconvert_exporter": "python",
   "pygments_lexer": "ipython3",
   "version": "3.12.7"
  }
 },
 "nbformat": 4,
 "nbformat_minor": 5
}
